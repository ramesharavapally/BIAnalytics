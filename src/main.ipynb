{
 "cells": [
  {
   "cell_type": "code",
   "execution_count": 7,
   "metadata": {},
   "outputs": [],
   "source": [
    "import pandas as pd\n",
    "import requests\n",
    "import lxml.etree as ET\n",
    "import base64\n",
    "import io\n",
    "import zipfile\n",
    "import os\n",
    "from pathlib import Path"
   ]
  },
  {
   "cell_type": "code",
   "execution_count": 8,
   "metadata": {},
   "outputs": [],
   "source": [
    "url = 'XXXX'\n",
    "username = 'XXXX'\n",
    "password = 'XXXX'\n",
    "folder_path = 'XXXX'\n",
    "client = 'XXXX'"
   ]
  },
  {
   "cell_type": "code",
   "execution_count": 9,
   "metadata": {},
   "outputs": [],
   "source": [
    "def __xml_to_df(xml_data : str):\n",
    "    # Parse the XML data\n",
    "    root = ET.fromstring(xml_data)\n",
    "    # print(data)\n",
    "    \n",
    "    namespaces = {\n",
    "    'soapenv': 'http://schemas.xmlsoap.org/soap/envelope/',\n",
    "    'xsi': 'http://www.w3.org/2001/XMLSchema-instance',\n",
    "    'ns': 'http://xmlns.oracle.com/oxp/service/v2'\n",
    "    }\n",
    "    \n",
    "    items = root.findall('.//ns:item', namespaces)\n",
    "    # print(items)\n",
    "\n",
    "    data = []\n",
    "    for item in items:\n",
    "        item_data = {}\n",
    "        for child in item:\n",
    "            # Get the tag name without namespace            \n",
    "            tag = ET.QName(child).localname            \n",
    "            item_data[tag] = child.text            \n",
    "        data.append(item_data)\n",
    "\n",
    "    # Convert the list of dictionaries to a DataFrame\n",
    "    df = pd.DataFrame(data)\n",
    "    return df"
   ]
  },
  {
   "cell_type": "code",
   "execution_count": 10,
   "metadata": {},
   "outputs": [],
   "source": [
    "def __get_folder_content(url : str , username : str , password : str , folder_path : str):\n",
    "    url = f'{url}//xmlpserver/services/v2/CatalogService?wsdl'    \n",
    "    headers = {'Content-Type': 'application/soap+xml'}\n",
    "    \n",
    "    payload = f\"\"\"\n",
    "                <soapenv:Envelope xmlns:soapenv=\"http://schemas.xmlsoap.org/soap/envelope/\" xmlns:v2=\"http://xmlns.oracle.com/oxp/service/v2\">\n",
    "                    <soapenv:Header/>\n",
    "                        <soapenv:Body>\n",
    "                            <v2:getFolderContents>\n",
    "                                <v2:folderAbsolutePath>{folder_path}</v2:folderAbsolutePath>\n",
    "                                <v2:userID>{username}</v2:userID>\n",
    "                                <v2:password>{password}</v2:password>\n",
    "                            </v2:getFolderContents>\n",
    "                        </soapenv:Body>\n",
    "                </soapenv:Envelope>\n",
    "                \"\"\"\n",
    "                \n",
    "    \n",
    "    response = requests.request(method='POST', url=url, data=payload, headers=headers, auth=(username, password))\n",
    "    \n",
    "    if response.status_code != 200:\n",
    "        # raise Exception(f\"Error: {response.status_code} - {response.text}\")\n",
    "        print(f\"Error: {response.status_code} - {response.text}\")\n",
    "        return pd.DataFrame()\n",
    "    \n",
    "    data = __xml_to_df(response.text)\n",
    "    return data\n",
    "    "
   ]
  },
  {
   "cell_type": "code",
   "execution_count": 11,
   "metadata": {},
   "outputs": [],
   "source": [
    "def get_report_data(url : str , username : str , password : str , folder_path : str):\n",
    "    report_data =__get_folder_content(url , username , password , folder_path)\n",
    "    \n",
    "    folder_data = report_data[report_data['type'] == 'Folder'] \n",
    "    \n",
    "    folder_stack = folder_data['absolutePath'].to_list()    \n",
    "    while len(folder_stack) >0:\n",
    "        current_folder = folder_stack.pop()\n",
    "        # print(current_folder)\n",
    "        subfolder_data = __get_folder_content(url, username, password, current_folder)            \n",
    "        if subfolder_data.shape[0] > 0:\n",
    "            report_data = pd.concat([report_data, subfolder_data])\n",
    "            subfolders = subfolder_data[subfolder_data['type'] == 'Folder']['absolutePath'].tolist()\n",
    "            folder_stack.extend(subfolders)                        \n",
    "    \n",
    "    return report_data\n",
    "    \n",
    "        \n",
    "    "
   ]
  },
  {
   "cell_type": "code",
   "execution_count": 12,
   "metadata": {},
   "outputs": [
    {
     "name": "stdout",
     "output_type": "stream",
     "text": [
      "Error: 500 - <soapenv:Envelope xmlns:soapenv=\"http://schemas.xmlsoap.org/soap/envelope/\"><soapenv:Body><soapenv:Fault><faultcode>soapenv:Server</faultcode><faultstring>PublicReportService::generateListOfItems Failure: Due to Folder Path [/Custom/C Spire Custom Reports/APEX/Data Model/BKP Order Details Report 01/12] doesn't exist!</faultstring></soapenv:Fault></soapenv:Body></soapenv:Envelope>\n"
     ]
    }
   ],
   "source": [
    "\n",
    "data = get_report_data(url , username , password , folder_path)\n",
    "report_data = data[data['type'] == 'Report']\n",
    "datamodel_data = data[data['type'] == 'DataModel']\n",
    "folder_data = data[data['type'] == 'Folder']"
   ]
  },
  {
   "cell_type": "code",
   "execution_count": 13,
   "metadata": {},
   "outputs": [
    {
     "data": {
      "text/plain": [
       "array(['Folder', 'Report', 'DataModel'], dtype=object)"
      ]
     },
     "execution_count": 13,
     "metadata": {},
     "output_type": "execute_result"
    }
   ],
   "source": [
    "data['type'].unique()"
   ]
  },
  {
   "cell_type": "code",
   "execution_count": 14,
   "metadata": {},
   "outputs": [
    {
     "data": {
      "text/plain": [
       "((336, 10), (325, 10), (172, 10))"
      ]
     },
     "execution_count": 14,
     "metadata": {},
     "output_type": "execute_result"
    }
   ],
   "source": [
    "report_data.shape , datamodel_data.shape , folder_data.shape"
   ]
  },
  {
   "cell_type": "code",
   "execution_count": 77,
   "metadata": {},
   "outputs": [],
   "source": [
    "report_data.to_csv(r'..\\file_data\\report_data.csv' , index= False)"
   ]
  },
  {
   "cell_type": "code",
   "execution_count": 78,
   "metadata": {},
   "outputs": [],
   "source": [
    "datamodel_data.to_csv(r'..\\file_data\\datamodel_data.csv' , index= False)"
   ]
  },
  {
   "cell_type": "code",
   "execution_count": 79,
   "metadata": {},
   "outputs": [],
   "source": [
    "folder_data.to_csv(r'..\\file_data\\folder_data.csv' , index= False)"
   ]
  },
  {
   "cell_type": "code",
   "execution_count": 80,
   "metadata": {},
   "outputs": [],
   "source": [
    "def __make_report_directory (report_display_name : str):\n",
    "    directory_path = r\"..\\reports\\{}\".format(report_display_name)\n",
    "    \n",
    "    try:\n",
    "        os.makedirs(directory_path, exist_ok=True)  # Creates the directory and any necessary parent directories    \n",
    "    except Exception as e:\n",
    "        raise ValueError(f\"Error while creating directory  {e}\")\n",
    "    return directory_path\n",
    "    "
   ]
  },
  {
   "cell_type": "code",
   "execution_count": 81,
   "metadata": {},
   "outputs": [],
   "source": [
    "def get_data_model_name(xml_data: str):\n",
    "    datamodel = None\n",
    "    root = ET.fromstring(xml_data)\n",
    "    # Define the namespace\n",
    "    namespace = {'ns': 'http://xmlns.oracle.com/oxp/xmlp'}\n",
    "    # Find the dataModel element\n",
    "    data_model_elem = root.find('ns:dataModel', namespace)\n",
    "    # Get the 'url' attribute\n",
    "    if data_model_elem is not None:\n",
    "        datamodel = data_model_elem.get('url')\n",
    "    return datamodel\n",
    "        "
   ]
  },
  {
   "cell_type": "code",
   "execution_count": 82,
   "metadata": {},
   "outputs": [],
   "source": [
    "def __get_query(xdm_data:str):\n",
    "    root = ET.fromstring(xdm_data)\n",
    "\n",
    "# Define the namespace (from the XML)\n",
    "    namespace = {'ns': 'http://xmlns.oracle.com/oxp/xmlp'}\n",
    "\n",
    "    # Find all sql elements in the XML\n",
    "    sql_elements = root.findall('.//ns:sql', namespace)\n",
    "\n",
    "    # Extract SQL queries from CDATA sections\n",
    "    queries = []\n",
    "    for sql in sql_elements:        \n",
    "        cdata = sql.text.strip() if sql.text else ''\n",
    "        queries.append(cdata)        \n",
    "    return queries"
   ]
  },
  {
   "cell_type": "code",
   "execution_count": 83,
   "metadata": {},
   "outputs": [],
   "source": [
    "def get_query_frm_DM(dm_binary_data ) :\n",
    "    zipobject = io.BytesIO(dm_binary_data)    \n",
    "    datamodel_name = None\n",
    "    xdm_data = None\n",
    "    with zipfile.ZipFile(zipobject, 'r') as zip_file:\n",
    "        # List all files in the ZIP archive\n",
    "        for file_name in zip_file.namelist():\n",
    "            # Check if the file has a .xdo extension\n",
    "            if file_name.endswith('.xdm'):                \n",
    "                # Read the .xdo file from the ZIP archive\n",
    "                with zip_file.open(file_name) as file:\n",
    "                    xdm_data = file.read()\n",
    "                                                    \n",
    "                break  # Exit the loop after finding the first .xdo file\n",
    "    if xdm_data is not None:\n",
    "        queries = __get_query(xdm_data)\n",
    "        # for i , query in enumerate(queries):\n",
    "        #     print('\\n')\n",
    "        #     print(f\"query {i}\")\n",
    "        #     print(query)\n",
    "        #     print('\\n')\n",
    "            "
   ]
  },
  {
   "cell_type": "code",
   "execution_count": 84,
   "metadata": {},
   "outputs": [],
   "source": [
    "def __download_object(url : str , username : str , password : str , report_name : str , display_name : str , directroty : str ):\n",
    "    url = f'{url}//xmlpserver/services/v2/CatalogService?wsdl'    \n",
    "    headers = {'Content-Type': 'application/soap+xml'}\n",
    "    \n",
    "    payload = f\"\"\"\n",
    "                <soapenv:Envelope xmlns:soapenv=\"http://schemas.xmlsoap.org/soap/envelope/\" xmlns:v2=\"http://xmlns.oracle.com/oxp/service/v2\">\n",
    "                <soapenv:Header/>\n",
    "                    <soapenv:Body>\n",
    "                        <v2:downloadObject>\n",
    "                            <v2:reportAbsolutePath>{report_name}</v2:reportAbsolutePath>\n",
    "                            <v2:userID>{username}</v2:userID>\n",
    "                            <v2:password>{password}</v2:password>\n",
    "                        </v2:downloadObject>\n",
    "                    </soapenv:Body>\n",
    "                </soapenv:Envelope>\n",
    "                \"\"\"\n",
    "                \n",
    "    \n",
    "    soap_response = requests.request(method='POST', url=url, data=payload, headers=headers, auth=(username, password))\n",
    "    \n",
    "    if soap_response.status_code != 200:\n",
    "        raise Exception(f\"Error: {soap_response.status_code} - {soap_response.text}\")\n",
    "    soap_response = soap_response.text\n",
    "    \n",
    "    start_tag = '<downloadObjectReturn>'\n",
    "    end_tag = '</downloadObjectReturn>'\n",
    "    \n",
    "    start_index = soap_response.find(start_tag) + len(start_tag)\n",
    "    end_index = soap_response.find(end_tag)\n",
    "    \n",
    "    # Extract the Base64 string\n",
    "    base64_string = soap_response[start_index:end_index]\n",
    "    \n",
    "    # Decode Base64 string to binary data\n",
    "    binary_data = base64.b64decode(base64_string)\n",
    "        \n",
    "    \n",
    "    with open(r'{}\\{}.zip'.format(directroty , display_name), 'wb') as zip_file:\n",
    "            zip_file.write(binary_data)\n",
    "        \n",
    "            \n",
    "    return binary_data\n",
    "            "
   ]
  },
  {
   "cell_type": "code",
   "execution_count": 85,
   "metadata": {},
   "outputs": [],
   "source": [
    "def download_report_data(url : str , username : str , password : str , report_name : str , display_name : str ):\n",
    "    \n",
    "    directory_path = __make_report_directory(display_name)\n",
    "    \n",
    "    binary_data = None\n",
    "    \n",
    "    try:    \n",
    "        binary_data = __download_object(url , username , password , report_name , display_name , directory_path )\n",
    "    except Exception as e:\n",
    "        print(e)\n",
    "        \n",
    "    \n",
    "    zipobject = io.BytesIO(binary_data)    \n",
    "    datamodel_name = None\n",
    "    with zipfile.ZipFile(zipobject, 'r') as zip_file:\n",
    "        # List all files in the ZIP archive\n",
    "        for file_name in zip_file.namelist():\n",
    "            # Check if the file has a .xdo extension\n",
    "            if file_name.endswith('.xdo'):                \n",
    "                # Read the .xdo file from the ZIP archive\n",
    "                with zip_file.open(file_name) as file:\n",
    "                    xdo_data = file.read()\n",
    "                                    \n",
    "                datamodel_name = get_data_model_name(xdo_data)                \n",
    "                break  # Exit the loop after finding the first .xdo file\n",
    "    print(f\"datamodel is {datamodel_name}\")\n",
    "    if datamodel_name is not None:\n",
    "        dm_display_name = Path(datamodel_name)\n",
    "        dm_display_name = dm_display_name.stem\n",
    "        dm_data = None\n",
    "        try:\n",
    "            dm_data = __download_object(url , username , password , datamodel_name , dm_display_name , directory_path)\n",
    "            get_query_frm_DM(dm_data )\n",
    "        except Exception as e:\n",
    "            print(e)\n",
    "    \n",
    "    \n",
    "    \n",
    "    # print(dm_data)\n",
    "\n",
    "    print(f\"ZIP {display_name} file created successfully.\")\n",
    "    "
   ]
  },
  {
   "cell_type": "code",
   "execution_count": 88,
   "metadata": {},
   "outputs": [],
   "source": [
    "# report_data.shape"
   ]
  },
  {
   "cell_type": "code",
   "execution_count": null,
   "metadata": {},
   "outputs": [],
   "source": [
    "for i , row in report_data.iterrows():\n",
    "    report_name = row['absolutePath']\n",
    "    display_name = row['displayName']\n",
    "    download_report_data(url , username , password , report_name , display_name )\n",
    "    print('********************************************')\n",
    "    # if i >=5:\n",
    "    #     break"
   ]
  },
  {
   "cell_type": "code",
   "execution_count": null,
   "metadata": {},
   "outputs": [],
   "source": []
  },
  {
   "cell_type": "code",
   "execution_count": null,
   "metadata": {},
   "outputs": [],
   "source": []
  },
  {
   "cell_type": "code",
   "execution_count": null,
   "metadata": {},
   "outputs": [],
   "source": []
  }
 ],
 "metadata": {
  "kernelspec": {
   "display_name": "cloudsql_venv",
   "language": "python",
   "name": "python3"
  },
  "language_info": {
   "codemirror_mode": {
    "name": "ipython",
    "version": 3
   },
   "file_extension": ".py",
   "mimetype": "text/x-python",
   "name": "python",
   "nbconvert_exporter": "python",
   "pygments_lexer": "ipython3",
   "version": "3.11.2"
  }
 },
 "nbformat": 4,
 "nbformat_minor": 2
}
